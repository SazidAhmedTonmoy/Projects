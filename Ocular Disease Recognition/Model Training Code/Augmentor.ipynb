{
 "cells": [
  {
   "cell_type": "code",
   "execution_count": 1,
   "id": "b8650ed1",
   "metadata": {},
   "outputs": [
    {
     "name": "stdout",
     "output_type": "stream",
     "text": [
      "Collecting Augmentor\n",
      "  Downloading Augmentor-0.2.10-py2.py3-none-any.whl (38 kB)\n",
      "Requirement already satisfied: Pillow>=5.2.0 in c:\\programdata\\anaconda3\\lib\\site-packages (from Augmentor) (8.2.0)\n",
      "Requirement already satisfied: tqdm>=4.9.0 in c:\\programdata\\anaconda3\\lib\\site-packages (from Augmentor) (4.59.0)\n",
      "Requirement already satisfied: future>=0.16.0 in c:\\programdata\\anaconda3\\lib\\site-packages (from Augmentor) (0.18.2)\n",
      "Requirement already satisfied: numpy>=1.11.0 in c:\\programdata\\anaconda3\\lib\\site-packages (from Augmentor) (1.20.1)\n",
      "Installing collected packages: Augmentor\n",
      "Successfully installed Augmentor-0.2.10\n"
     ]
    }
   ],
   "source": [
    "!pip install Augmentor"
   ]
  },
  {
   "cell_type": "code",
   "execution_count": 2,
   "id": "4eda18f3",
   "metadata": {},
   "outputs": [],
   "source": [
    "import Augmentor"
   ]
  },
  {
   "cell_type": "code",
   "execution_count": 9,
   "id": "c2f5576a",
   "metadata": {},
   "outputs": [
    {
     "name": "stderr",
     "output_type": "stream",
     "text": [
      "Processing <PIL.Image.Image image mode=RGB size=512x512 at 0x166BE2AED60>:   0%|          | 1/1500 [00:00<03:41,  6.76 Samples/s]"
     ]
    },
    {
     "name": "stdout",
     "output_type": "stream",
     "text": [
      "Initialised with 401 image(s) found.\n",
      "Output directory set to C:\\Users\\LENOVO\\Desktop\\Cataract Detection\\Augmented Dataset\\Cataract\\output."
     ]
    },
    {
     "name": "stderr",
     "output_type": "stream",
     "text": [
      "Processing <PIL.Image.Image image mode=RGB size=512x512 at 0x166BEFE4490>: 100%|██████████| 1500/1500 [00:24<00:00, 62.26 Samples/s]\n"
     ]
    }
   ],
   "source": [
    "p = Augmentor.Pipeline(\"C:\\\\Users\\\\LENOVO\\\\Desktop\\\\Cataract Detection\\\\Augmented Dataset\\\\Cataract\")\n",
    "\n",
    "p.zoom_random(probability=0.5, percentage_area=0.8)\n",
    "p.rotate(probability=1, max_left_rotation=5, max_right_rotation=5)\n",
    "p.flip_left_right(probability=0.5)\n",
    "p.flip_top_bottom(probability=0.5)\n",
    "p.random_brightness(probability=0.3, min_factor=0.3, max_factor=1.2)\n",
    "p.random_distortion(probability= 1, grid_width= 4, grid_height= 4, magnitude= 8)                   \n",
    "p.sample(1500)"
   ]
  },
  {
   "cell_type": "code",
   "execution_count": 10,
   "id": "a210582a",
   "metadata": {},
   "outputs": [
    {
     "name": "stderr",
     "output_type": "stream",
     "text": [
      "Processing <PIL.Image.Image image mode=RGB size=512x512 at 0x166BE275D90>:   0%|          | 4/1500 [00:00<03:45,  6.63 Samples/s]"
     ]
    },
    {
     "name": "stdout",
     "output_type": "stream",
     "text": [
      "Initialised with 396 image(s) found.\n",
      "Output directory set to C:\\Users\\LENOVO\\Desktop\\Cataract Detection\\Augmented Dataset\\Glaucoma\\output."
     ]
    },
    {
     "name": "stderr",
     "output_type": "stream",
     "text": [
      "Processing <PIL.Image.Image image mode=RGB size=512x512 at 0x166BE8E9400>: 100%|██████████| 1500/1500 [00:25<00:00, 59.99 Samples/s]\n"
     ]
    }
   ],
   "source": [
    "p = Augmentor.Pipeline(\"C:\\\\Users\\\\LENOVO\\\\Desktop\\\\Cataract Detection\\\\Augmented Dataset\\\\Glaucoma\")\n",
    "\n",
    "p.zoom_random(probability=0.5, percentage_area=0.8)\n",
    "p.rotate(probability=1, max_left_rotation=5, max_right_rotation=5)\n",
    "p.flip_left_right(probability=0.5)\n",
    "p.flip_top_bottom(probability=0.5)\n",
    "p.random_brightness(probability=0.3, min_factor=0.3, max_factor=1.2)\n",
    "p.random_distortion(probability= 1, grid_width= 4, grid_height= 4, magnitude= 8)                   \n",
    "p.sample(1500)"
   ]
  },
  {
   "cell_type": "code",
   "execution_count": 11,
   "id": "e827d181",
   "metadata": {},
   "outputs": [
    {
     "name": "stderr",
     "output_type": "stream",
     "text": [
      "\r",
      "Executing Pipeline:   0%|          | 0/1500 [00:00<?, ? Samples/s]"
     ]
    },
    {
     "name": "stdout",
     "output_type": "stream",
     "text": [
      "Initialised with 202 image(s) found.\n",
      "Output directory set to C:\\Users\\LENOVO\\Desktop\\Cataract Detection\\Augmented Dataset\\Hypertension\\output."
     ]
    },
    {
     "name": "stderr",
     "output_type": "stream",
     "text": [
      "Processing <PIL.Image.Image image mode=RGB size=512x512 at 0x166BE2C1FD0>: 100%|██████████| 1500/1500 [00:24<00:00, 61.13 Samples/s]\n"
     ]
    }
   ],
   "source": [
    "p = Augmentor.Pipeline(\"C:\\\\Users\\\\LENOVO\\\\Desktop\\\\Cataract Detection\\\\Augmented Dataset\\\\Hypertension\")\n",
    "\n",
    "p.zoom_random(probability=0.5, percentage_area=0.8)\n",
    "p.rotate(probability=1, max_left_rotation=5, max_right_rotation=5)\n",
    "p.flip_left_right(probability=0.5)\n",
    "p.flip_top_bottom(probability=0.5)\n",
    "p.random_brightness(probability=0.3, min_factor=0.3, max_factor=1.2)\n",
    "p.random_distortion(probability= 1, grid_width= 4, grid_height= 4, magnitude= 8)                   \n",
    "p.sample(1500)"
   ]
  },
  {
   "cell_type": "code",
   "execution_count": 12,
   "id": "d58f72db",
   "metadata": {},
   "outputs": [
    {
     "name": "stderr",
     "output_type": "stream",
     "text": [
      "\r",
      "Executing Pipeline:   0%|          | 0/1500 [00:00<?, ? Samples/s]"
     ]
    },
    {
     "name": "stdout",
     "output_type": "stream",
     "text": [
      "Initialised with 318 image(s) found.\n",
      "Output directory set to C:\\Users\\LENOVO\\Desktop\\Cataract Detection\\Augmented Dataset\\Macular_Degeneration\\output."
     ]
    },
    {
     "name": "stderr",
     "output_type": "stream",
     "text": [
      "Processing <PIL.Image.Image image mode=RGB size=512x512 at 0x166BE8A04F0>: 100%|██████████| 1500/1500 [00:33<00:00, 44.36 Samples/s]\n"
     ]
    }
   ],
   "source": [
    "p = Augmentor.Pipeline(\"C:\\\\Users\\\\LENOVO\\\\Desktop\\\\Cataract Detection\\\\Augmented Dataset\\\\Macular_Degeneration\")\n",
    "\n",
    "p.zoom_random(probability=0.5, percentage_area=0.8)\n",
    "p.rotate(probability=1, max_left_rotation=5, max_right_rotation=5)\n",
    "p.flip_left_right(probability=0.5)\n",
    "p.flip_top_bottom(probability=0.5)\n",
    "p.random_brightness(probability=0.3, min_factor=0.3, max_factor=1.2)\n",
    "p.random_distortion(probability= 1, grid_width= 4, grid_height= 4, magnitude= 8)                   \n",
    "p.sample(1500)"
   ]
  },
  {
   "cell_type": "code",
   "execution_count": 13,
   "id": "996e10a5",
   "metadata": {},
   "outputs": [
    {
     "name": "stderr",
     "output_type": "stream",
     "text": [
      "Processing <PIL.Image.Image image mode=RGB size=512x512 at 0x166BE8E57C0>:   0%|          | 2/1500 [00:00<04:24,  5.67 Samples/s]"
     ]
    },
    {
     "name": "stdout",
     "output_type": "stream",
     "text": [
      "Initialised with 305 image(s) found.\n",
      "Output directory set to C:\\Users\\LENOVO\\Desktop\\Cataract Detection\\Augmented Dataset\\Pathological_Myopia\\output."
     ]
    },
    {
     "name": "stderr",
     "output_type": "stream",
     "text": [
      "Processing <PIL.Image.Image image mode=RGB size=512x512 at 0x166BE6CA1F0>: 100%|██████████| 1500/1500 [00:56<00:00, 26.56 Samples/s]\n"
     ]
    }
   ],
   "source": [
    "p = Augmentor.Pipeline(\"C:\\\\Users\\\\LENOVO\\\\Desktop\\\\Cataract Detection\\\\Augmented Dataset\\\\Pathological_Myopia\")\n",
    "\n",
    "p.zoom_random(probability=0.5, percentage_area=0.8)\n",
    "p.rotate(probability=1, max_left_rotation=5, max_right_rotation=5)\n",
    "p.flip_left_right(probability=0.5)\n",
    "p.flip_top_bottom(probability=0.5)\n",
    "p.random_brightness(probability=0.3, min_factor=0.3, max_factor=1.2)\n",
    "p.random_distortion(probability= 1, grid_width= 4, grid_height= 4, magnitude= 8)                   \n",
    "p.sample(1500)"
   ]
  },
  {
   "cell_type": "code",
   "execution_count": null,
   "id": "daf15aea",
   "metadata": {},
   "outputs": [],
   "source": []
  },
  {
   "cell_type": "code",
   "execution_count": null,
   "id": "7a7136a7",
   "metadata": {},
   "outputs": [],
   "source": []
  }
 ],
 "metadata": {
  "kernelspec": {
   "display_name": "Python 3",
   "language": "python",
   "name": "python3"
  },
  "language_info": {
   "codemirror_mode": {
    "name": "ipython",
    "version": 3
   },
   "file_extension": ".py",
   "mimetype": "text/x-python",
   "name": "python",
   "nbconvert_exporter": "python",
   "pygments_lexer": "ipython3",
   "version": "3.8.8"
  }
 },
 "nbformat": 4,
 "nbformat_minor": 5
}
